{
  "nbformat": 4,
  "nbformat_minor": 0,
  "metadata": {
    "colab": {
      "provenance": [],
      "gpuType": "T4"
    },
    "kernelspec": {
      "name": "python3",
      "display_name": "Python 3"
    },
    "language_info": {
      "name": "python"
    },
    "accelerator": "GPU"
  },
  "cells": [
    {
      "cell_type": "markdown",
      "source": [
        "# **1. Perkenalan Dataset**\n"
      ],
      "metadata": {
        "id": "kZLRMFl0JyyQ"
      }
    },
    {
      "cell_type": "markdown",
      "source": [
        "Tahap pertama, Anda harus mencari dan menggunakan dataset dengan ketentuan sebagai berikut:\n",
        "\n",
        "1. **Sumber Dataset**:  \n",
        "   Dataset dapat diperoleh dari berbagai sumber, seperti public repositories (*Kaggle*, *UCI ML Repository*, *Open Data*) atau data primer yang Anda kumpulkan sendiri.\n"
      ],
      "metadata": {
        "id": "hssSDn-5n3HR"
      }
    },
    {
      "cell_type": "markdown",
      "source": [
        "Dataset yang digunakan: Titanic - Machine Learning from Disaster\n",
        "Tujuan: Memprediksi kelangsungan hidup penumpang (Survived)\n",
        "Sumber: Kaggle (train.csv dan test.csv)\n",
        "\n",
        "(https://www.kaggle.com/c/titanic/data?select=test.csv)"
      ],
      "metadata": {
        "id": "U4LwPZBSuMya"
      }
    },
    {
      "cell_type": "markdown",
      "source": [
        "# **2. Import Library**"
      ],
      "metadata": {
        "id": "fKADPWcFKlj3"
      }
    },
    {
      "cell_type": "markdown",
      "source": [
        "Pada tahap ini, Anda perlu mengimpor beberapa pustaka (library) Python yang dibutuhkan untuk analisis data dan pembangunan model machine learning atau deep learning."
      ],
      "metadata": {
        "id": "LgA3ERnVn84N"
      }
    },
    {
      "cell_type": "code",
      "source": [
        "import pandas as pd\n",
        "import numpy as np\n",
        "import matplotlib.pyplot as plt\n",
        "import seaborn as sns\n",
        "from sklearn.model_selection import train_test_split\n",
        "from sklearn.preprocessing import StandardScaler, OneHotEncoder\n",
        "from sklearn.impute import SimpleImputer\n",
        "from sklearn.compose import ColumnTransformer\n",
        "from sklearn.pipeline import Pipeline"
      ],
      "metadata": {
        "id": "BlmvjLY9M4Yj"
      },
      "execution_count": 1,
      "outputs": []
    },
    {
      "cell_type": "markdown",
      "source": [
        "# **3. Memuat Dataset**"
      ],
      "metadata": {
        "id": "f3YIEnAFKrKL"
      }
    },
    {
      "cell_type": "markdown",
      "source": [
        "Pada tahap ini, Anda perlu memuat dataset ke dalam notebook. Jika dataset dalam format CSV, Anda bisa menggunakan pustaka pandas untuk membacanya. Pastikan untuk mengecek beberapa baris awal dataset untuk memahami strukturnya dan memastikan data telah dimuat dengan benar.\n",
        "\n",
        "Jika dataset berada di Google Drive, pastikan Anda menghubungkan Google Drive ke Colab terlebih dahulu. Setelah dataset berhasil dimuat, langkah berikutnya adalah memeriksa kesesuaian data dan siap untuk dianalisis lebih lanjut.\n",
        "\n",
        "Jika dataset berupa unstructured data, silakan sesuaikan dengan format seperti kelas Machine Learning Pengembangan atau Machine Learning Terapan"
      ],
      "metadata": {
        "id": "Ey3ItwTen_7E"
      }
    },
    {
      "cell_type": "code",
      "source": [
        "# 3. Memuat Dataset\n",
        "\n",
        "# Hubungkan Google Colab ke Google Drive\n",
        "from google.colab import drive\n",
        "drive.mount('/content/drive')\n",
        "\n",
        "# Hubungkan Google Colab ke Google Drive\n",
        "from google.colab import drive\n",
        "drive.mount('/content/drive')\n",
        "\n",
        "# Tentukan path ke dataset Anda di Google Drive\n",
        "file_path = '/content/drive/MyDrive/Esperimen_SML_Iwan-Aslich/dataset_raw/train.csv'\n",
        "\n",
        "# Muat dataset\n",
        "try:\n",
        "    df = pd.read_csv(file_path)\n",
        "    print(\"Dataset berhasil dimuat!\")\n",
        "    print(f\"Jumlah baris dan kolom: {df.shape}\")\n",
        "except FileNotFoundError:\n",
        "    print(f\"Error: File tidak ditemukan di {file_path}. Pastikan path sudah benar dan file ada.\")\n",
        "\n",
        "# Tampilkan beberapa baris awal dataset\n",
        "print(\"\\nBeberapa baris awal dataset:\")\n",
        "print(df.head())"
      ],
      "metadata": {
        "id": "GHCGNTyrM5fS",
        "colab": {
          "base_uri": "https://localhost:8080/"
        },
        "outputId": "38045458-d169-4968-e360-2594eb2ee57d"
      },
      "execution_count": 2,
      "outputs": [
        {
          "output_type": "stream",
          "name": "stdout",
          "text": [
            "Mounted at /content/drive\n",
            "Drive already mounted at /content/drive; to attempt to forcibly remount, call drive.mount(\"/content/drive\", force_remount=True).\n",
            "Dataset berhasil dimuat!\n",
            "Jumlah baris dan kolom: (891, 12)\n",
            "\n",
            "Beberapa baris awal dataset:\n",
            "   PassengerId  Survived  Pclass  \\\n",
            "0            1         0       3   \n",
            "1            2         1       1   \n",
            "2            3         1       3   \n",
            "3            4         1       1   \n",
            "4            5         0       3   \n",
            "\n",
            "                                                Name     Sex   Age  SibSp  \\\n",
            "0                            Braund, Mr. Owen Harris    male  22.0      1   \n",
            "1  Cumings, Mrs. John Bradley (Florence Briggs Th...  female  38.0      1   \n",
            "2                             Heikkinen, Miss. Laina  female  26.0      0   \n",
            "3       Futrelle, Mrs. Jacques Heath (Lily May Peel)  female  35.0      1   \n",
            "4                           Allen, Mr. William Henry    male  35.0      0   \n",
            "\n",
            "   Parch            Ticket     Fare Cabin Embarked  \n",
            "0      0         A/5 21171   7.2500   NaN        S  \n",
            "1      0          PC 17599  71.2833   C85        C  \n",
            "2      0  STON/O2. 3101282   7.9250   NaN        S  \n",
            "3      0            113803  53.1000  C123        S  \n",
            "4      0            373450   8.0500   NaN        S  \n"
          ]
        }
      ]
    },
    {
      "cell_type": "markdown",
      "source": [
        "# **4. Exploratory Data Analysis (EDA)**\n",
        "\n",
        "Pada tahap ini, Anda akan melakukan **Exploratory Data Analysis (EDA)** untuk memahami karakteristik dataset.\n",
        "\n",
        "Tujuan dari EDA adalah untuk memperoleh wawasan awal yang mendalam mengenai data dan menentukan langkah selanjutnya dalam analisis atau pemodelan."
      ],
      "metadata": {
        "id": "bgZkbJLpK9UR"
      }
    },
    {
      "cell_type": "code",
      "source": [
        "print(\"\\nInformasi umum dataset:\")\n",
        "df.info()\n",
        "\n",
        "print(\"\\nStatistik deskriptif untuk fitur numerik:\")\n",
        "df.describe()\n",
        "\n",
        "print(\"\\nJumlah missing values per kolom:\")\n",
        "print(df.isnull().sum())\n",
        "\n",
        "print(\"\\nPersentase missing values per kolom:\")\n",
        "print(df.isnull().sum() / len(df) * 100)\n",
        "\n",
        "print(f\"\\nJumlah baris duplikat: {df.duplicated().sum()}\")\n",
        "\n",
        "print(\"\\nDistribusi fitur 'Survived':\")\n",
        "print(df['Survived'].value_counts())\n",
        "print(df['Survived'].value_counts(normalize=True) * 100) # Persentase\n",
        "\n",
        "print(\"\\nDistribusi fitur 'Sex':\")\n",
        "print(df['Sex'].value_counts())\n",
        "\n",
        "print(\"\\nDistribusi fitur 'Embarked':\")\n",
        "print(df['Embarked'].value_counts())\n",
        "\n",
        "plt.figure(figsize=(12, 5))\n",
        "plt.subplot(1, 2, 1)\n",
        "sns.histplot(df['Age'].dropna(), kde=True)\n",
        "plt.title('Distribusi Umur')\n",
        "\n",
        "plt.subplot(1, 2, 2)\n",
        "sns.histplot(df['Fare'], kde=True)\n",
        "plt.title('Distribusi Tarif')\n",
        "plt.show()\n",
        "\n",
        "plt.figure(figsize=(15, 5))\n",
        "plt.subplot(1, 3, 1)\n",
        "sns.countplot(x='Sex', data=df)\n",
        "plt.title('Jumlah Penumpang Berdasarkan Jenis Kelamin')\n",
        "\n",
        "plt.subplot(1, 3, 2)\n",
        "sns.countplot(x='Pclass', data=df)\n",
        "plt.title('Jumlah Penumpang Berdasarkan Kelas')\n",
        "\n",
        "plt.subplot(1, 3, 3)\n",
        "sns.countplot(x='Embarked', data=df)\n",
        "plt.title('Jumlah Penumpang Berdasarkan Titik Keberangkatan')\n",
        "plt.show()\n"
      ],
      "metadata": {
        "id": "dKeejtvxM6X1",
        "colab": {
          "base_uri": "https://localhost:8080/",
          "height": 1000
        },
        "outputId": "8bae8ab5-e66a-4285-90de-9ac9e328c46b"
      },
      "execution_count": 3,
      "outputs": [
        {
          "output_type": "stream",
          "name": "stdout",
          "text": [
            "\n",
            "Informasi umum dataset:\n",
            "<class 'pandas.core.frame.DataFrame'>\n",
            "RangeIndex: 891 entries, 0 to 890\n",
            "Data columns (total 12 columns):\n",
            " #   Column       Non-Null Count  Dtype  \n",
            "---  ------       --------------  -----  \n",
            " 0   PassengerId  891 non-null    int64  \n",
            " 1   Survived     891 non-null    int64  \n",
            " 2   Pclass       891 non-null    int64  \n",
            " 3   Name         891 non-null    object \n",
            " 4   Sex          891 non-null    object \n",
            " 5   Age          714 non-null    float64\n",
            " 6   SibSp        891 non-null    int64  \n",
            " 7   Parch        891 non-null    int64  \n",
            " 8   Ticket       891 non-null    object \n",
            " 9   Fare         891 non-null    float64\n",
            " 10  Cabin        204 non-null    object \n",
            " 11  Embarked     889 non-null    object \n",
            "dtypes: float64(2), int64(5), object(5)\n",
            "memory usage: 83.7+ KB\n",
            "\n",
            "Statistik deskriptif untuk fitur numerik:\n",
            "\n",
            "Jumlah missing values per kolom:\n",
            "PassengerId      0\n",
            "Survived         0\n",
            "Pclass           0\n",
            "Name             0\n",
            "Sex              0\n",
            "Age            177\n",
            "SibSp            0\n",
            "Parch            0\n",
            "Ticket           0\n",
            "Fare             0\n",
            "Cabin          687\n",
            "Embarked         2\n",
            "dtype: int64\n",
            "\n",
            "Persentase missing values per kolom:\n",
            "PassengerId     0.000000\n",
            "Survived        0.000000\n",
            "Pclass          0.000000\n",
            "Name            0.000000\n",
            "Sex             0.000000\n",
            "Age            19.865320\n",
            "SibSp           0.000000\n",
            "Parch           0.000000\n",
            "Ticket          0.000000\n",
            "Fare            0.000000\n",
            "Cabin          77.104377\n",
            "Embarked        0.224467\n",
            "dtype: float64\n",
            "\n",
            "Jumlah baris duplikat: 0\n",
            "\n",
            "Distribusi fitur 'Survived':\n",
            "Survived\n",
            "0    549\n",
            "1    342\n",
            "Name: count, dtype: int64\n",
            "Survived\n",
            "0    61.616162\n",
            "1    38.383838\n",
            "Name: proportion, dtype: float64\n",
            "\n",
            "Distribusi fitur 'Sex':\n",
            "Sex\n",
            "male      577\n",
            "female    314\n",
            "Name: count, dtype: int64\n",
            "\n",
            "Distribusi fitur 'Embarked':\n",
            "Embarked\n",
            "S    644\n",
            "C    168\n",
            "Q     77\n",
            "Name: count, dtype: int64\n"
          ]
        },
        {
          "output_type": "display_data",
          "data": {
            "text/plain": [
              "<Figure size 1200x500 with 2 Axes>"
            ],
            "image/png": "[encoded data removed]"
          },
          "metadata": {}
        },
        {
          "output_type": "display_data",
          "data": {
            "text/plain": [
              "<Figure size 1500x500 with 3 Axes>"
            ],
            "image/png": "[encoded data removed]"
          },
          "metadata": {}
        }
      ]
    },
    {
      "cell_type": "markdown",
      "source": [
        "# **5. Data Preprocessing**"
      ],
      "metadata": {
        "id": "cpgHfgnSK3ip"
      }
    },
    {
      "cell_type": "markdown",
      "source": [
        "Pada tahap ini, data preprocessing adalah langkah penting untuk memastikan kualitas data sebelum digunakan dalam model machine learning.\n",
        "\n",
        "Jika Anda menggunakan data teks, data mentah sering kali mengandung nilai kosong, duplikasi, atau rentang nilai yang tidak konsisten, yang dapat memengaruhi kinerja model. Oleh karena itu, proses ini bertujuan untuk membersihkan dan mempersiapkan data agar analisis berjalan optimal.\n",
        "\n",
        "Berikut adalah tahapan-tahapan yang bisa dilakukan, tetapi **tidak terbatas** pada:\n",
        "1. Menghapus atau Menangani Data Kosong (Missing Values)\n",
        "2. Menghapus Data Duplikat\n",
        "3. Normalisasi atau Standarisasi Fitur\n",
        "4. Deteksi dan Penanganan Outlier\n",
        "5. Encoding Data Kategorikal\n",
        "6. Binning (Pengelompokan Data)\n",
        "\n",
        "Cukup sesuaikan dengan karakteristik data yang kamu gunakan yah. Khususnya ketika kami menggunakan data tidak terstruktur."
      ],
      "metadata": {
        "id": "COf8KUPXLg5r"
      }
    },
    {
      "cell_type": "code",
      "source": [
        "# Membuat salinan DataFrame untuk preprocessing agar tidak mengubah DataFrame asli\n",
        "df_preprocessed = df.copy()\n",
        "\n",
        "# Menangani Missing Values\n",
        "# Kolom 'Embarked': Mengisi missing values dengan modus (mode)\n",
        "# Karena hanya ada 2 missing values dan ini adalah fitur kategorikal.\n",
        "mode_embarked = df_preprocessed['Embarked'].mode()[0]\n",
        "df_preprocessed['Embarked'].fillna(mode_embarked, inplace=True)\n",
        "print(f\"Missing values di 'Embarked' setelah diisi modus ({mode_embarked}): {df_preprocessed['Embarked'].isnull().sum()}\")\n",
        "\n",
        "# Kolom 'Age': Mengisi missing values dengan median\n",
        "# Median lebih robust terhadap outlier dibandingkan mean.\n",
        "median_age = df_preprocessed['Age'].median()\n",
        "df_preprocessed['Age'].fillna(median_age, inplace=True)\n",
        "print(f\"Missing values di 'Age' setelah diisi median ({median_age}): {df_preprocessed['Age'].isnull().sum()}\")\n",
        "\n",
        "# Kolom 'Cabin': Menangani missing values dengan membuat fitur baru (binary)\n",
        "# Karena terlalu banyak missing values, kita bisa membuat fitur biner 'HasCabin'\n",
        "# yang menunjukkan apakah penumpang memiliki informasi kabin atau tidak.\n",
        "df_preprocessed['HasCabin'] = df_preprocessed['Cabin'].apply(lambda x: 0 if pd.isna(x) else 1)\n",
        "\n",
        "# Setelah itu, kita bisa menghapus kolom 'Cabin' asli\n",
        "df_preprocessed.drop('Cabin', axis=1, inplace=True)\n",
        "print(f\"Missing values di 'Cabin' (sekarang HasCabin) setelah diproses: {df_preprocessed['HasCabin'].isnull().sum()}\")\n",
        "\n",
        "\n",
        "# Feature Engineering\n",
        "\n",
        "# Membuat fitur FamilySize: SibSp + Parch + 1 (untuk diri sendiri)\n",
        "df_preprocessed['FamilySize'] = df_preprocessed['SibSp'] + df_preprocessed['Parch'] + 1\n",
        "print(\"\\nFitur 'FamilySize' berhasil dibuat.\")\n",
        "\n",
        "# Membuat fitur IsAlone: 1 jika FamilySize = 1, 0 jika tidak\n",
        "df_preprocessed['IsAlone'] = df_preprocessed['FamilySize'].apply(lambda x: 1 if x == 1 else 0)\n",
        "print(\"Fitur 'IsAlone' berhasil dibuat.\")\n",
        "\n",
        "# Mengekstrak Title (Gelar) dari kolom 'Name'\n",
        "# Gelar seringkali mengindikasikan status sosial atau umur\n",
        "df_preprocessed['Title'] = df_preprocessed['Name'].apply(lambda x: x.split(',')[1].split('.')[0].strip())\n",
        "# Beberapa gelar mungkin jarang, kita bisa mengelompokkannya\n",
        "common_titles = ['Mr', 'Miss', 'Mrs', 'Master']\n",
        "df_preprocessed['Title'] = df_preprocessed['Title'].apply(lambda x: x if x in common_titles else 'Rare')\n",
        "print(\"Fitur 'Title' berhasil dibuat dan dikelompokkan.\")\n",
        "\n",
        "# Menghapus Fitur Tidak Berguna\n",
        "\n",
        "# Hapus kolom yang tidak akan digunakan untuk modeling\n",
        "# PassengerId: ID unik, tidak relevan untuk prediksi\n",
        "# Name: Sudah diekstrak 'Title'\n",
        "# Ticket: Nomor tiket, sulit diekstrak informasi berguna\n",
        "# SibSp, Parch: Sudah digabungkan menjadi FamilySize\n",
        "df_preprocessed.drop(['PassengerId', 'Name', 'Ticket', 'SibSp', 'Parch'], axis=1, inplace=True)\n",
        "print(\"\\nKolom tidak berguna berhasil dihapus.\")\n",
        "\n",
        "# Encoding Data Kategorikal\n",
        "\n",
        "# Identifikasi kolom kategorikal yang tersisa\n",
        "categorical_cols = ['Sex', 'Embarked', 'Pclass', 'Title'] # Pclass diperlakukan sebagai kategorikal karena merepresentasikan kelas\n",
        "\n",
        "# Terapkan One-Hot Encoding\n",
        "# Menggunakan pd.get_dummies() sangat mudah untuk ini\n",
        "df_preprocessed = pd.get_dummies(df_preprocessed, columns=categorical_cols, drop_first=True) # drop_first=True menghindari dummy variable trap\n",
        "print(\"\\nFitur kategorikal berhasil di-encode.\")\n",
        "\n",
        "# Tampilkan beberapa baris awal dataset setelah preprocessing\n",
        "print(\"\\nDataFrame setelah Preprocessing:\")\n",
        "print(df_preprocessed.head())\n",
        "\n",
        "# Periksa lagi missing values setelah preprocessing (seharusnya sudah 0)\n",
        "print(\"\\nMissing values setelah preprocessing:\")\n",
        "print(df_preprocessed.isnull().sum())"
      ],
      "metadata": {
        "id": "Og8pGV0-iDLz",
        "colab": {
          "base_uri": "https://localhost:8080/"
        },
        "outputId": "4b19cfa0-7435-49d4-939d-0d902e6a492f"
      },
      "execution_count": 4,
      "outputs": [
        {
          "output_type": "stream",
          "name": "stdout",
          "text": [
            "Missing values di 'Embarked' setelah diisi modus (S): 0\n",
            "Missing values di 'Age' setelah diisi median (28.0): 0\n",
            "Missing values di 'Cabin' (sekarang HasCabin) setelah diproses: 0\n",
            "\n",
            "Fitur 'FamilySize' berhasil dibuat.\n",
            "Fitur 'IsAlone' berhasil dibuat.\n",
            "Fitur 'Title' berhasil dibuat dan dikelompokkan.\n",
            "\n",
            "Kolom tidak berguna berhasil dihapus.\n",
            "\n",
            "Fitur kategorikal berhasil di-encode.\n",
            "\n",
            "DataFrame setelah Preprocessing:\n",
            "   Survived   Age     Fare  HasCabin  FamilySize  IsAlone  Sex_male  \\\n",
            "0         0  22.0   7.2500         0           2        0      True   \n",
            "1         1  38.0  71.2833         1           2        0     False   \n",
            "2         1  26.0   7.9250         0           1        1     False   \n",
            "3         1  35.0  53.1000         1           2        0     False   \n",
            "4         0  35.0   8.0500         0           1        1      True   \n",
            "\n",
            "   Embarked_Q  Embarked_S  Pclass_2  Pclass_3  Title_Miss  Title_Mr  \\\n",
            "0       False        True     False      True       False      True   \n",
            "1       False       False     False     False       False     False   \n",
            "2       False        True     False      True        True     False   \n",
            "3       False        True     False     False       False     False   \n",
            "4       False        True     False      True       False      True   \n",
            "\n",
            "   Title_Mrs  Title_Rare  \n",
            "0      False       False  \n",
            "1       True       False  \n",
            "2      False       False  \n",
            "3       True       False  \n",
            "4      False       False  \n",
            "\n",
            "Missing values setelah preprocessing:\n",
            "Survived      0\n",
            "Age           0\n",
            "Fare          0\n",
            "HasCabin      0\n",
            "FamilySize    0\n",
            "IsAlone       0\n",
            "Sex_male      0\n",
            "Embarked_Q    0\n",
            "Embarked_S    0\n",
            "Pclass_2      0\n",
            "Pclass_3      0\n",
            "Title_Miss    0\n",
            "Title_Mr      0\n",
            "Title_Mrs     0\n",
            "Title_Rare    0\n",
            "dtype: int64\n"
          ]
        },
        {
          "output_type": "stream",
          "name": "stderr",
          "text": [
            "<ipython-input-4-71ffd2913bd9>:8: FutureWarning: A value is trying to be set on a copy of a DataFrame or Series through chained assignment using an inplace method.\n",
            "The behavior will change in pandas 3.0. This inplace method will never work because the intermediate object on which we are setting values always behaves as a copy.\n",
            "\n",
            "For example, when doing 'df[col].method(value, inplace=True)', try using 'df.method({col: value}, inplace=True)' or df[col] = df[col].method(value) instead, to perform the operation inplace on the original object.\n",
            "\n",
            "\n",
            "  df_preprocessed['Embarked'].fillna(mode_embarked, inplace=True)\n",
            "<ipython-input-4-71ffd2913bd9>:14: FutureWarning: A value is trying to be set on a copy of a DataFrame or Series through chained assignment using an inplace method.\n",
            "The behavior will change in pandas 3.0. This inplace method will never work because the intermediate object on which we are setting values always behaves as a copy.\n",
            "\n",
            "For example, when doing 'df[col].method(value, inplace=True)', try using 'df.method({col: value}, inplace=True)' or df[col] = df[col].method(value) instead, to perform the operation inplace on the original object.\n",
            "\n",
            "\n",
            "  df_preprocessed['Age'].fillna(median_age, inplace=True)\n"
          ]
        }
      ]
    },
    {
      "cell_type": "code",
      "source": [
        "if 'df_preprocessed' in locals():\n",
        "    # Nama file untuk diunduh\n",
        "    output_filename = 'titanic_preprocessed.csv'\n",
        "\n",
        "    # Simpan DataFrame ke file CSV lokal di lingkungan Colab\n",
        "    df_preprocessed.to_csv(output_filename, index=False)\n",
        "\n",
        "    # Mengunduh file dari lingkungan Colab ke komputer lokal Anda\n",
        "    from google.colab import files\n",
        "    files.download(output_filename)\n",
        "\n",
        "    print(f\"\\nFile '{output_filename}' berhasil dibuat dan siap diunduh ke komputer Anda.\")\n",
        "    print(\"Silakan cek folder 'Downloads' di komputer Anda.\")\n",
        "else:\n",
        "    print(\"Error: DataFrame 'df_preprocessed' belum terbentuk. Pastikan semua langkah preprocessing sudah dijalankan.\")"
      ],
      "metadata": {
        "colab": {
          "base_uri": "https://localhost:8080/",
          "height": 69
        },
        "id": "O8gNXlXKxfmR",
        "outputId": "8ddfb61e-e338-40fa-eba6-d38851cd4326"
      },
      "execution_count": 5,
      "outputs": [
        {
          "output_type": "display_data",
          "data": {
            "text/plain": [
              "<IPython.core.display.Javascript object>"
            ],
            "application/javascript": [
              "\n",
              "    async function download(id, filename, size) {\n",
              "      if (!google.colab.kernel.accessAllowed) {\n",
              "        return;\n",
              "      }\n",
              "      const div = document.createElement('div');\n",
              "      const label = document.createElement('label');\n",
              "      label.textContent = `Downloading \"${filename}\": `;\n",
              "      div.appendChild(label);\n",
              "      const progress = document.createElement('progress');\n",
              "      progress.max = size;\n",
              "      div.appendChild(progress);\n",
              "      document.body.appendChild(div);\n",
              "\n",
              "      const buffers = [];\n",
              "      let downloaded = 0;\n",
              "\n",
              "      const channel = await google.colab.kernel.comms.open(id);\n",
              "      // Send a message to notify the kernel that we're ready.\n",
              "      channel.send({})\n",
              "\n",
              "      for await (const message of channel.messages) {\n",
              "        // Send a message to notify the kernel that we're ready.\n",
              "        channel.send({})\n",
              "        if (message.buffers) {\n",
              "          for (const buffer of message.buffers) {\n",
              "            buffers.push(buffer);\n",
              "            downloaded += buffer.byteLength;\n",
              "            progress.value = downloaded;\n",
              "          }\n",
              "        }\n",
              "      }\n",
              "      const blob = new Blob(buffers, {type: 'application/binary'});\n",
              "      const a = document.createElement('a');\n",
              "      a.href = window.URL.createObjectURL(blob);\n",
              "      a.download = filename;\n",
              "      div.appendChild(a);\n",
              "      a.click();\n",
              "      div.remove();\n",
              "    }\n",
              "  "
            ]
          },
          "metadata": {}
        },
        {
          "output_type": "display_data",
          "data": {
            "text/plain": [
              "<IPython.core.display.Javascript object>"
            ],
            "application/javascript": [
              "download(\"download_e8d5f371-e65a-446f-8ff7-0212ac5d9d00\", \"titanic_preprocessed.csv\", 62408)"
            ]
          },
          "metadata": {}
        },
        {
          "output_type": "stream",
          "name": "stdout",
          "text": [
            "\n",
            "File 'titanic_preprocessed.csv' berhasil dibuat dan siap diunduh ke komputer Anda.\n",
            "Silakan cek folder 'Downloads' di komputer Anda.\n"
          ]
        }
      ]
    },
    {
      "cell_type": "code",
      "source": [
        "print(\"Daftar Kolom dan Urutan:\")\n",
        "print(df_preprocessed.columns.tolist())\n",
        "print(\"\\nTipe Data Setiap Kolom:\")\n",
        "print(df_preprocessed.dtypes)"
      ],
      "metadata": {
        "id": "vfeS6AqVxgG-",
        "colab": {
          "base_uri": "https://localhost:8080/"
        },
        "outputId": "d651049f-5d9f-4f5c-ea26-e3b4b670c943"
      },
      "execution_count": 6,
      "outputs": [
        {
          "output_type": "stream",
          "name": "stdout",
          "text": [
            "Daftar Kolom dan Urutan:\n",
            "['Survived', 'Age', 'Fare', 'HasCabin', 'FamilySize', 'IsAlone', 'Sex_male', 'Embarked_Q', 'Embarked_S', 'Pclass_2', 'Pclass_3', 'Title_Miss', 'Title_Mr', 'Title_Mrs', 'Title_Rare']\n",
            "\n",
            "Tipe Data Setiap Kolom:\n",
            "Survived        int64\n",
            "Age           float64\n",
            "Fare          float64\n",
            "HasCabin        int64\n",
            "FamilySize      int64\n",
            "IsAlone         int64\n",
            "Sex_male         bool\n",
            "Embarked_Q       bool\n",
            "Embarked_S       bool\n",
            "Pclass_2         bool\n",
            "Pclass_3         bool\n",
            "Title_Miss       bool\n",
            "Title_Mr         bool\n",
            "Title_Mrs        bool\n",
            "Title_Rare       bool\n",
            "dtype: object\n"
          ]
        }
      ]
    },
    {
      "cell_type": "code",
      "source": [],
      "metadata": {
        "id": "Zw19ZRjVW08n"
      },
      "execution_count": 6,
      "outputs": []
    }
  ]
}